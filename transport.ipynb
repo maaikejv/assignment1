{
 "cells": [
  {
   "cell_type": "markdown",
   "metadata": {},
   "source": [
    "Assignment 4: transport"
   ]
  },
  {
   "cell_type": "markdown",
   "metadata": {},
   "source": [
    "Ex. 1: Find the centre of the nodes of the swimming route. See this link."
   ]
  },
  {
   "cell_type": "code",
   "execution_count": null,
   "metadata": {},
   "outputs": [],
   "source": [
    "import osmnx as ox\n",
    "city = (ox.graph_from_place('Amsterdam, Netherlands'))\n",
    "# matlplot lib is used, sizes go in inches...\n",
    "ox.plot_graph(city, figsize=(12,6))"
   ]
  }
 ],
 "metadata": {
  "language_info": {
   "name": "python"
  }
 },
 "nbformat": 4,
 "nbformat_minor": 2
}
